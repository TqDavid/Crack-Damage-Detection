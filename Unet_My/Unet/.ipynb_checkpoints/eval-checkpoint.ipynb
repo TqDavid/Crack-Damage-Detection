{
 "cells": [
  {
   "cell_type": "code",
   "execution_count": null,
   "metadata": {
    "collapsed": true
   },
   "outputs": [],
   "source": [
    "# %load eval.py\n",
    "'''\n",
    " * @author [Zizhao Zhang]\n",
    " * @email [zizhao@cise.ufl.edu]\n",
    " * @create date 2017-05-25 02:20:32\n",
    " * @modify date 2017-05-25 02:20:32\n",
    " * @desc [description]\n",
    "'''\n",
    "from __future__ import absolute_import\n",
    "from __future__ import division\n",
    "from __future__ import print_function\n",
    "\n",
    "import tensorflow as tf\n",
    "import os, sys\n",
    "import numpy as np\n",
    "import scipy.misc as misc\n",
    "from model import UNet\n",
    "from utils import dice_coef, dice_coef_loss\n",
    "from loader import dataLoader, folderLoader\n",
    "from PIL import Image\n",
    "from utils import VIS, mean_IU\n",
    "import cv2\n",
    "# configure args\n",
    "from opts import *\n",
    "# assert(opt.load_from_checkpoint != '')\n",
    "# assert(opt.batch_size == 1)\n",
    "from matplotlib import pyplot as plt \n",
    "#vis = VIS(save_path=opt.load_from_checkpoint)\n",
    "vis = VIS(save_path='./trainlog')\n",
    "# configuration session\n",
    "config = tf.ConfigProto()\n",
    "config.gpu_options.allow_growth = True\n",
    "sess = tf.Session(config=config)"
   ]
  },
  {
   "cell_type": "code",
   "execution_count": null,
   "metadata": {
    "collapsed": true
   },
   "outputs": [],
   "source": [
    "# define data loader\n",
    "img_shape = [ opt.imHeight,opt.imWidth]\n",
    "test_generator, test_samples = folderLoader(opt.data_path, imSize=img_shape)\n",
    " \n",
    " \n",
    "\n",
    "# define model, the last dimension is the channel\n",
    "label = tf.placeholder(tf.int32, shape=[None]+img_shape)\n",
    "with tf.name_scope('unet'):\n",
    "    model = UNet().create_model(img_shape=img_shape+[3], num_class=opt.num_class)\n",
    "    img = model.input\n",
    "    pred = model.output"
   ]
  },
  {
   "cell_type": "code",
   "execution_count": null,
   "metadata": {
    "collapsed": true
   },
   "outputs": [],
   "source": [
    "# define loss\n",
    "with tf.name_scope('cross_entropy'): \n",
    "    cross_entropy_loss = tf.reduce_mean(tf.nn.sparse_softmax_cross_entropy_with_logits(labels=label, logits=pred))\n",
    "\n",
    "saver = tf.train.Saver() # must be added in the end\n",
    "\n",
    "''' Main '''\n",
    "init_op = tf.global_variables_initializer()\n",
    "sess.run(init_op)\n",
    "with sess.as_default():\n",
    "    \n",
    "    # restore from a checkpoint if exists\n",
    "    try:\n",
    "        \n",
    "#        saver.restore(sess, './trainlog/')\n",
    "#        saver.restore(sess, opt.load_from_checkpoint)\n",
    "        module_file = tf.train.latest_checkpoint(opt.load_from_checkpoint)    \n",
    "        saver.restore(sess, module_file)\n",
    "        print ('--> load from checkpoint '+opt.load_from_checkpoint)\n",
    "    except:\n",
    "            print ('unable to load checkpoint ...')\n",
    "            sys.exit(0)\n",
    "    # debug\n",
    "    dice_score = 0\n",
    "    for it in range(0, test_samples):\n",
    "        x_batch, y_batch, name = next(test_generator)\n",
    "        # tensorflow wants a different tensor order\n",
    "        feed_dict = {   \n",
    "                        img: x_batch,\n",
    "                        label: y_batch\n",
    "                    }\n",
    "        loss, pred_logits = sess.run([cross_entropy_loss, pred], feed_dict=feed_dict)\n",
    "        pred_map = np.argmax(pred_logits[0],axis=2)\n",
    "        score = vis.add_sample(pred_map, y_batch[0])\n",
    "        print ('[iter %f]: loss=%f, meanIU=%f' % (it, loss, score))\n",
    "        names='iter_'+str(it)+'loss_'+str(loss) +'meanIU_'+str(score)+'.bmp'\n",
    "        cv2.imwrite(names,pred_map*255)\n",
    "#         plt.imshow(pred_map)\n",
    "#        vis.save_seg(pred_map, name='{0:}_{1:.3f}.png'.format(name, score), im=x_batch[0], gt=y_batch[0])\n",
    "\n",
    "    vis.compute_scores()"
   ]
  }
 ],
 "metadata": {
  "kernelspec": {
   "display_name": "Python 3",
   "language": "python",
   "name": "python3"
  },
  "language_info": {
   "codemirror_mode": {
    "name": "ipython",
    "version": 3
   },
   "file_extension": ".py",
   "mimetype": "text/x-python",
   "name": "python",
   "nbconvert_exporter": "python",
   "pygments_lexer": "ipython3",
   "version": "3.6.1"
  }
 },
 "nbformat": 4,
 "nbformat_minor": 2
}
