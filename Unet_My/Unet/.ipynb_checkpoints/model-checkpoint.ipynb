{
 "cells": [
  {
   "cell_type": "code",
   "execution_count": 1,
   "metadata": {},
   "outputs": [
    {
     "name": "stdout",
     "output_type": "stream",
     "text": [
      "load keras from tensorflow package\n"
     ]
    }
   ],
   "source": [
    "'''\n",
    " * @author [Zizhao Zhang]\n",
    " * @email [zizhao@cise.ufl.edu]\n",
    " * @create date 2017-05-25 02:21:13\n",
    " * @modify date 2017-05-25 02:21:13\n",
    " * @desc [description]\n",
    "'''\n",
    "import tensorflow as tf\n",
    "try:\n",
    "    from tensorflow.contrib import keras as keras\n",
    "    print ('load keras from tensorflow package')\n",
    "except:\n",
    "    print ('update your tensorflow')\n",
    "from tensorflow.contrib.keras import models\n",
    "from tensorflow.contrib.keras import layers "
   ]
  },
  {
   "cell_type": "code",
   "execution_count": null,
   "metadata": {
    "collapsed": true
   },
   "outputs": [],
   "source": [
    "class UNet():\n",
    "    def __init__(self):\n",
    "        print ('build UNet ...')\n",
    "\n",
    "    def get_crop_shape(self, target, refer):\n",
    "        # width, the 3rd dimension\n",
    "        cw = (target.get_shape()[2] - refer.get_shape()[2]).value\n",
    "        assert (cw >= 0)\n",
    "        if cw % 2 != 0:\n",
    "            cw1, cw2 = int(cw/2), int(cw/2) + 1\n",
    "        else:\n",
    "            cw1, cw2 = int(cw/2), int(cw/2)\n",
    "        # height, the 2nd dimension\n",
    "        ch = (target.get_shape()[1] - refer.get_shape()[1]).value\n",
    "        assert (ch >= 0)\n",
    "        if ch % 2 != 0:\n",
    "            ch1, ch2 = int(ch/2), int(ch/2) + 1\n",
    "        else:\n",
    "            ch1, ch2 = int(ch/2), int(ch/2)\n",
    "\n",
    "        return (ch1, ch2), (cw1, cw2)\n",
    "\n",
    "    def create_model(self, img_shape, num_class):\n",
    "\n",
    "        concat_axis = 3\n",
    "        inputs = layers.Input(shape = img_shape)\n",
    "\n",
    "        conv1 = layers.Conv2D(32, (3, 3), activation='relu', padding='same', name='conv1_1')(inputs)\n",
    "        conv1 = layers.Conv2D(32, (3, 3), activation='relu', padding='same')(conv1)\n",
    "        pool1 = layers.MaxPooling2D(pool_size=(2, 2))(conv1)\n",
    "        conv2 = layers.Conv2D(64, (3, 3), activation='relu', padding='same')(pool1)\n",
    "        conv2 = layers.Conv2D(64, (3, 3), activation='relu', padding='same')(conv2)\n",
    "        pool2 = layers.MaxPooling2D(pool_size=(2, 2))(conv2)\n",
    "\n",
    "        conv3 = layers.Conv2D(128, (3, 3), activation='relu', padding='same')(pool2)\n",
    "        conv3 = layers.Conv2D(128, (3, 3), activation='relu', padding='same')(conv3)\n",
    "        pool3 = layers.MaxPooling2D(pool_size=(2, 2))(conv3)\n",
    "\n",
    "        conv4 = layers.Conv2D(256, (3, 3), activation='relu', padding='same')(pool3)\n",
    "        conv4 = layers.Conv2D(256, (3, 3), activation='relu', padding='same')(conv4)\n",
    "        pool4 = layers.MaxPooling2D(pool_size=(2, 2))(conv4)\n",
    "\n",
    "        conv5 = layers.Conv2D(512, (3, 3), activation='relu', padding='same')(pool4)\n",
    "        conv5 = layers.Conv2D(512, (3, 3), activation='relu', padding='same')(conv5)\n",
    "\n",
    "        up_conv5 = layers.UpSampling2D(size=(2, 2))(conv5)\n",
    "        ch, cw = self.get_crop_shape(conv4, up_conv5)\n",
    "        crop_conv4 = layers.Cropping2D(cropping=(ch,cw))(conv4)\n",
    "        up6 = layers.concatenate([up_conv5, crop_conv4], axis=concat_axis)\n",
    "        conv6 = layers.Conv2D(256, (3, 3), activation='relu', padding='same')(up6)\n",
    "        conv6 = layers.Conv2D(256, (3, 3), activation='relu', padding='same')(conv6)\n",
    "\n",
    "        up_conv6 = layers.UpSampling2D(size=(2, 2))(conv6)\n",
    "        ch, cw = self.get_crop_shape(conv3, up_conv6)\n",
    "        crop_conv3 = layers.Cropping2D(cropping=(ch,cw))(conv3)\n",
    "        up7 = layers.concatenate([up_conv6, crop_conv3], axis=concat_axis) \n",
    "        conv7 = layers.Conv2D(128, (3, 3), activation='relu', padding='same')(up7)\n",
    "        conv7 = layers.Conv2D(128, (3, 3), activation='relu', padding='same')(conv7)\n",
    "\n",
    "        up_conv7 = layers.UpSampling2D(size=(2, 2))(conv7)\n",
    "        ch, cw = self.get_crop_shape(conv2, up_conv7)\n",
    "        crop_conv2 = layers.Cropping2D(cropping=(ch,cw))(conv2)\n",
    "        up8 = layers.concatenate([up_conv7, crop_conv2], axis=concat_axis)\n",
    "        conv8 = layers.Conv2D(64, (3, 3), activation='relu', padding='same')(up8)\n",
    "        conv8 = layers.Conv2D(64, (3, 3), activation='relu', padding='same')(conv8)\n",
    "\n",
    "        up_conv8 = layers.UpSampling2D(size=(2, 2))(conv8)\n",
    "        ch, cw = self.get_crop_shape(conv1, up_conv8)\n",
    "        crop_conv1 = layers.Cropping2D(cropping=(ch,cw))(conv1)\n",
    "        up9 = layers.concatenate([up_conv8, crop_conv1], axis=concat_axis)\n",
    "        conv9 = layers.Conv2D(32, (3, 3), activation='relu', padding='same')(up9)\n",
    "        conv9 = layers.Conv2D(32, (3, 3), activation='relu', padding='same')(conv9)\n",
    "\n",
    "        ch, cw = self.get_crop_shape(inputs, conv9)\n",
    "        conv9 = layers.ZeroPadding2D(padding=((ch[0], ch[1]), (cw[0], cw[1])))(conv9)\n",
    "        conv10 = layers.Conv2D(num_class, (1, 1))(conv9)\n",
    "\n",
    "        model = models.Model(inputs=inputs, outputs=conv10)\n",
    "\n",
    "        return model"
   ]
  }
 ],
 "metadata": {
  "kernelspec": {
   "display_name": "Python 3",
   "language": "python",
   "name": "python3"
  },
  "language_info": {
   "codemirror_mode": {
    "name": "ipython",
    "version": 3
   },
   "file_extension": ".py",
   "mimetype": "text/x-python",
   "name": "python",
   "nbconvert_exporter": "python",
   "pygments_lexer": "ipython3",
   "version": "3.6.1"
  }
 },
 "nbformat": 4,
 "nbformat_minor": 2
}
