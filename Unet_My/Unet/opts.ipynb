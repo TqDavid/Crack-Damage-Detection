{
 "cells": [
  {
   "cell_type": "code",
   "execution_count": null,
   "metadata": {
    "collapsed": true
   },
   "outputs": [],
   "source": [
    "# %load opts.py\n",
    "'''\n",
    " * @author [Zizhao Zhang]\n",
    " * @email [zizhao@cise.ufl.edu]\n",
    " * @create date 2017-05-25 02:20:01\n",
    " * @modify date 2017-05-25 02:20:01\n",
    " * @desc [description]\n",
    "'''\n",
    "\n",
    "import argparse\n",
    "import os\n",
    "parser = argparse.ArgumentParser()\n",
    "\n",
    "parser.add_argument('--batch_size', type=int, default=2, help='input batch size')\n",
    "parser.add_argument('--learning_rate', type=float, default=0.0001, help='learning rate')\n",
    "parser.add_argument('--lr_decay', type=float, default=0.9, help='learning rate decay')\n",
    "parser.add_argument('--epoch', type=int, default=25, help='# of epochs')\n",
    "parser.add_argument('--imWidth', type=int, default=240, help='then crop to this size')\n",
    "parser.add_argument('--imHeight', type=int, default=160, help='then crop to this size')\n",
    "parser.add_argument('--iter_epoch', type=int, default=0, help='# of iteration as an epoch')\n",
    "parser.add_argument('--num_class', type=int, default=2, help='# of classes')\n",
    "parser.add_argument('--checkpoint_path', type=str, default='./trainlog/', help='where checkpoint saved')\n",
    "parser.add_argument('--data_path', type=str, default='./data/', help='where dataset saved. See loader.py to know how to organize the dataset folder')\n",
    "parser.add_argument('--load_from_checkpoint', type=str, default='./trainlog/', help='where checkpoint saved')\n",
    "\n",
    "opt = parser.parse_args()\n",
    "\n",
    "args = vars(opt)\n",
    "print('------------ Options -------------')\n",
    "for k, v in sorted(args.items()):\n",
    "    print('%s: %s' % (str(k), str(v)))\n",
    "print('-------------- End ----------------')\n",
    "\n",
    "if opt.checkpoint_path != '' and not os.path.isdir(opt.checkpoint_path):\n",
    "    os.mkdir(opt.checkpoint_path)\n",
    "    "
   ]
  }
 ],
 "metadata": {
  "kernelspec": {
   "display_name": "Python 3",
   "language": "python",
   "name": "python3"
  },
  "language_info": {
   "codemirror_mode": {
    "name": "ipython",
    "version": 3
   },
   "file_extension": ".py",
   "mimetype": "text/x-python",
   "name": "python",
   "nbconvert_exporter": "python",
   "pygments_lexer": "ipython3",
   "version": "3.6.1"
  }
 },
 "nbformat": 4,
 "nbformat_minor": 2
}
